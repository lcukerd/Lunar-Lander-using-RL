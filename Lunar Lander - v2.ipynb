{
 "cells": [
  {
   "cell_type": "code",
   "execution_count": 1,
   "metadata": {},
   "outputs": [
    {
     "name": "stderr",
     "output_type": "stream",
     "text": [
      "Using TensorFlow backend.\n"
     ]
    }
   ],
   "source": [
    "import gym\n",
    "import random\n",
    "import math\n",
    "import numpy as np\n",
    "from keras.models import Sequential\n",
    "from keras.layers import Dense\n",
    "from keras.optimizers import Adam\n",
    "from gym.wrappers.monitoring.video_recorder import VideoRecorder\n",
    "from collections import deque\n",
    "import matplotlib.pyplot as plt"
   ]
  },
  {
   "cell_type": "code",
   "execution_count": 2,
   "metadata": {},
   "outputs": [],
   "source": [
    "%matplotlib notebook"
   ]
  },
  {
   "cell_type": "code",
   "execution_count": 24,
   "metadata": {},
   "outputs": [],
   "source": [
    "class DQNAgent:\n",
    "    def __init__(self,state_size,action_size,epsilon,epsilon_decay):\n",
    "        self.state_size = state_size\n",
    "        self.action_size = action_size\n",
    "        self.batch_size = 200\n",
    "        self.learning_rate = 0.001\n",
    "        self.Epsilon = epsilon\n",
    "        self.Gamma = 0.85\n",
    "        self.Epsilon_decay = epsilon_decay\n",
    "        self.Epsilon_min = 0.001\n",
    "        self.memory = deque(maxlen = 10000)\n",
    "        self.model = self.buildModel()\n",
    "    \n",
    "    def buildModel(self):\n",
    "        model = Sequential()\n",
    "        model.add(Dense(12,input_dim = self.state_size,activation = 'relu'))\n",
    "        model.add(Dense(6,activation = 'relu'))\n",
    "        model.add(Dense(self.action_size,activation = 'softmax'))\n",
    "        model.compile(loss = 'mse', optimizer = Adam(lr = self.learning_rate))\n",
    "        return model\n",
    "    \n",
    "    def chooseAction(self,state):\n",
    "        if (np.random.uniform() <= self.Epsilon):\n",
    "            return random.randrange(self.action_size)\n",
    "        action = self.model.predict(state)\n",
    "        return np.argmax(action)\n",
    "    \n",
    "    def store(self,state,action,reward,next_state,done):\n",
    "        self.memory.append((state,action,reward,next_state,done))\n",
    "    \n",
    "    def replay(self):\n",
    "        if (len(self.memory)<self.batch_size):\n",
    "            batch = random.sample(self.memory,len(self.memory))\n",
    "        else:\n",
    "            batch = random.sample(self.memory,self.batch_size)\n",
    "        cost = 0\n",
    "        loss = np.array([])\n",
    "        for state,action,reward,next_state,done in batch:\n",
    "            if done:\n",
    "                target  = reward\n",
    "            else:\n",
    "                target = reward + self.Gamma * np.amax(self.model.predict(next_state))\n",
    "            current = self.model.predict(state)\n",
    "            cost += abs(target - current[0][action])\n",
    "            current[0][action] = target\n",
    "            loss = np.append(loss,self.model.fit(state,current,epochs=1,verbose=0).history['loss'])\n",
    "        if (self.Epsilon > self.Epsilon_min):\n",
    "            self.Epsilon *= self.Epsilon_decay\n",
    "        return loss\n",
    "        \n",
    "    def load(self, name):\n",
    "        self.model.load_weights(name)\n",
    "\n",
    "    def save(self, name):\n",
    "        self.model.save_weights(name)\n",
    "        \n",
    "    def change_epsilon(self,eps):\n",
    "        self.Epsilon = eps"
   ]
  },
  {
   "cell_type": "code",
   "execution_count": 16,
   "metadata": {},
   "outputs": [],
   "source": [
    "np.random.seed(2)\n",
    "Episodes = 3000"
   ]
  },
  {
   "cell_type": "code",
   "execution_count": 17,
   "metadata": {},
   "outputs": [
    {
     "name": "stdout",
     "output_type": "stream",
     "text": [
      "\u001b[33mWARN: gym.spaces.Box autodetected dtype as <class 'numpy.float32'>. Please provide explicit dtype.\u001b[0m\n",
      "8 4\n"
     ]
    }
   ],
   "source": [
    "env = gym.make('LunarLander-v2')\n",
    "recorder = VideoRecorder(env, base_path='record')\n",
    "state_size = env.observation_space.shape[0]\n",
    "action_size = env.action_space.n\n",
    "print (state_size,action_size)"
   ]
  },
  {
   "cell_type": "code",
   "execution_count": 34,
   "metadata": {},
   "outputs": [],
   "source": [
    "agent = DQNAgent(state_size,action_size,0.0,0.999)"
   ]
  },
  {
   "cell_type": "code",
   "execution_count": 35,
   "metadata": {},
   "outputs": [],
   "source": [
    "agent.load(\"Lunar_lander-dqn.h5\")"
   ]
  },
  {
   "cell_type": "code",
   "execution_count": 36,
   "metadata": {
    "scrolled": false
   },
   "outputs": [
    {
     "name": "stdout",
     "output_type": "stream",
     "text": [
      "Episode: 3/3000, e: 0.0, Time: 549, Reward: 118.17562002559654,Steps: 455:::\n",
      "Episode: 7/3000, e: 0.0, Time: 687, Reward: 81.5522162006861,Steps: 510595::\n",
      "Episode: 8/3000, e: 0.0, Time: 773, Reward: 34.00672453325457,Steps: 537\n",
      "Episode: 10/3000, e: 0.0, Time: 999, Reward: 10.302298007086737,Steps: 727\n",
      "Episode: 11/3000, e: 0.0, Time: 859, Reward: 33.69567878677526,Steps: 473\n",
      "Episode: 12/3000, e: 0.0, Time: 595, Reward: 127.43028210250111,Steps: 428\n",
      "Episode: 15/3000, e: 0.0, Time: 999, Reward: 7.152525559517258,Steps: 899:::\n",
      "Episode: 19/3000, e: 0.0, Time: 979, Reward: 66.11764968820816,Steps: 89698::\n",
      "no\n"
     ]
    }
   ],
   "source": [
    "done = False\n",
    "correct =0\n",
    "for e in range(Episodes):\n",
    "    state = env.reset()\n",
    "    state = np.reshape(state, [1,state_size])\n",
    "    steps = 0\n",
    "    total_reward = 0\n",
    "    for time in range(1000):\n",
    "        #env.render()\n",
    "        #recorder.capture_frame()\n",
    "        action = agent.chooseAction(state)\n",
    "        if action != 1:\n",
    "            steps +=1\n",
    "        next_state,reward,done,_ = env.step(action)\n",
    "        total_reward += reward\n",
    "        next_state = np.reshape(next_state, [1, state_size])\n",
    "        agent.store(state,action,total_reward,next_state,done)\n",
    "        state = next_state\n",
    "        if done:\n",
    "            break\n",
    "    agent.replay()\n",
    "    if (e%10 == 0):\n",
    "        correct = 0\n",
    "    if total_reward >= 0:\n",
    "        print(\"Episode: {}/{}, e: {:.2}, Time: {}, Reward: {},Steps: {}\"\n",
    "          .format(e, Episodes, agent.Epsilon,time,total_reward,steps),end = '\\n') \n",
    "        correct += 1\n",
    "        if (correct >= 5):\n",
    "            cont = input()\n",
    "            if (cont=='no'):\n",
    "                break;\n",
    "    else:\n",
    "        print(\"Episode: {}/{}, e: {:.2}, Time: {}, Reward: {},Steps: {}::\"\n",
    "          .format(e, Episodes, agent.Epsilon,time,total_reward,steps),end = '\\r')                 \n",
    "env.close()\n",
    "#recorder.close()"
   ]
  },
  {
   "cell_type": "code",
   "execution_count": 37,
   "metadata": {},
   "outputs": [
    {
     "name": "stdout",
     "output_type": "stream",
     "text": [
      "Episode: 1/3000, e: 0.0, Time: 568, Reward: 171.84682548221292,Steps: 5249::\n",
      "Episode: 2/3000, e: 0.0, Time: 652, Reward: 132.4929319176512,Steps: 605\n",
      "Episode: 3/3000, e: 0.0, Time: 892, Reward: 66.58056660843235,Steps: 839\n",
      "Episode: 4/3000, e: 0.0, Time: 587, Reward: 171.25028170361927,Steps: 539\n"
     ]
    }
   ],
   "source": [
    "done = False\n",
    "for e in range(5):\n",
    "    state = env.reset()\n",
    "    state = np.reshape(state, [1,state_size])\n",
    "    steps = 0\n",
    "    total_reward = 0\n",
    "    for time in range(1000):\n",
    "        env.render()\n",
    "        recorder.capture_frame()\n",
    "        action = agent.chooseAction(state)\n",
    "        if action != 1:\n",
    "            steps +=1\n",
    "        next_state,reward,done,_ = env.step(action)\n",
    "        total_reward += reward\n",
    "        next_state = np.reshape(next_state, [1, state_size])\n",
    "        state = next_state\n",
    "        if done:\n",
    "            break\n",
    "    if total_reward >= 0:\n",
    "        print(\"Episode: {}/{}, e: {:.2}, Time: {}, Reward: {},Steps: {}\"\n",
    "          .format(e, Episodes, agent.Epsilon,time,total_reward,steps),end = '\\n')\n",
    "    else:\n",
    "        print(\"Episode: {}/{}, e: {:.2}, Time: {}, Reward: {},Steps: {}::\"\n",
    "          .format(e, Episodes, agent.Epsilon,time,total_reward,steps),end = '\\r')                 \n",
    "env.close()\n",
    "recorder.close()"
   ]
  },
  {
   "cell_type": "code",
   "execution_count": 22,
   "metadata": {},
   "outputs": [],
   "source": [
    "agent.save(\"Lunar_lander-dqn.h5\")"
   ]
  },
  {
   "cell_type": "code",
   "execution_count": null,
   "metadata": {},
   "outputs": [],
   "source": []
  },
  {
   "cell_type": "code",
   "execution_count": null,
   "metadata": {},
   "outputs": [],
   "source": []
  }
 ],
 "metadata": {
  "kernelspec": {
   "display_name": "Python 3",
   "language": "python",
   "name": "python3"
  },
  "language_info": {
   "codemirror_mode": {
    "name": "ipython",
    "version": 3
   },
   "file_extension": ".py",
   "mimetype": "text/x-python",
   "name": "python",
   "nbconvert_exporter": "python",
   "pygments_lexer": "ipython3",
   "version": "3.6.5"
  }
 },
 "nbformat": 4,
 "nbformat_minor": 2
}
