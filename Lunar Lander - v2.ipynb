{
 "cells": [
  {
   "cell_type": "code",
   "execution_count": 1,
   "metadata": {},
   "outputs": [
    {
     "name": "stderr",
     "output_type": "stream",
     "text": [
      "Using TensorFlow backend.\n"
     ]
    }
   ],
   "source": [
    "import gym\n",
    "import random\n",
    "import math\n",
    "import numpy as np\n",
    "from keras.models import Sequential\n",
    "from keras.layers import Dense\n",
    "from keras.optimizers import Adam\n",
    "from gym.wrappers.monitoring.video_recorder import VideoRecorder\n",
    "from collections import deque\n",
    "import matplotlib.pyplot as plt\n",
    "import pandas as pd"
   ]
  },
  {
   "cell_type": "code",
   "execution_count": 2,
   "metadata": {},
   "outputs": [],
   "source": [
    "%matplotlib notebook"
   ]
  },
  {
   "cell_type": "code",
   "execution_count": 3,
   "metadata": {},
   "outputs": [],
   "source": [
    "class DQNAgent:\n",
    "    def __init__(self,state_size,action_size,epsilon,epsilon_decay):\n",
    "        self.state_size = state_size\n",
    "        self.action_size = action_size\n",
    "        self.batch_size = 200\n",
    "        self.learning_rate = 0.000001\n",
    "        self.Epsilon = epsilon\n",
    "        self.Gamma = 0.95\n",
    "        self.Epsilon_decay = epsilon_decay\n",
    "        self.Epsilon_min = 0.0001\n",
    "        self.memory = deque(maxlen = 10000)\n",
    "        self.model = self.buildModel()\n",
    "    \n",
    "    def buildModel(self):\n",
    "        model = Sequential()\n",
    "        model.add(Dense(12,input_dim = self.state_size,activation = 'tanh'))\n",
    "        model.add(Dense(6,activation = 'tanh'))\n",
    "        model.add(Dense(self.action_size,activation = 'sigmoid'))\n",
    "        model.compile(loss = 'mse', optimizer = Adam(lr = self.learning_rate))\n",
    "        return model\n",
    "    \n",
    "    def chooseAction(self,state):\n",
    "        if (np.random.uniform() <= self.Epsilon):\n",
    "            return random.randrange(self.action_size)\n",
    "        action = self.model.predict(state)\n",
    "        return np.argmax(action)\n",
    "    \n",
    "    def store(self,state,action,reward,next_state,done):\n",
    "        reward = reward/260\n",
    "        self.memory.append((state,action,reward,next_state,done))\n",
    "    \n",
    "    def replay(self):\n",
    "        if (len(self.memory)<self.batch_size):\n",
    "            batch = random.sample(self.memory,len(self.memory))\n",
    "        else:\n",
    "            batch = random.sample(self.memory,self.batch_size)\n",
    "        cost = 0\n",
    "        loss = np.array([])\n",
    "        for state,action,reward,next_state,done in batch:\n",
    "            if done:\n",
    "                target  = reward\n",
    "            else:\n",
    "                target = reward + self.Gamma * np.amax(self.model.predict(next_state))\n",
    "            if (target > 1):\n",
    "                target = 1\n",
    "            elif (target < 0):\n",
    "                target = 0\n",
    "            current = self.model.predict(state)\n",
    "            cost += abs(target - current[0][action])\n",
    "            current[0][action] = target\n",
    "            loss = np.append(loss,self.model.fit(state,current,epochs=1,verbose=0).history['loss'])\n",
    "        if (self.Epsilon > self.Epsilon_min):\n",
    "            self.Epsilon *= self.Epsilon_decay\n",
    "        return loss\n",
    "        \n",
    "    def load(self, name):\n",
    "        self.model.load_weights(name)\n",
    "        return self.model\n",
    "\n",
    "    def save(self, name):\n",
    "        self.model.save_weights(name)\n",
    "        \n",
    "    def change_epsilon(self,eps):\n",
    "        self.Epsilon = eps"
   ]
  },
  {
   "cell_type": "code",
   "execution_count": 4,
   "metadata": {},
   "outputs": [],
   "source": [
    "np.random.seed(2)\n",
    "Episodes = 1000"
   ]
  },
  {
   "cell_type": "code",
   "execution_count": 5,
   "metadata": {},
   "outputs": [
    {
     "name": "stdout",
     "output_type": "stream",
     "text": [
      "\u001b[33mWARN: gym.spaces.Box autodetected dtype as <class 'numpy.float32'>. Please provide explicit dtype.\u001b[0m\n",
      "8 4\n"
     ]
    }
   ],
   "source": [
    "env = gym.make('LunarLander-v2')\n",
    "recorder = VideoRecorder(env, base_path='record')\n",
    "state_size = env.observation_space.shape[0]\n",
    "action_size = env.action_space.n\n",
    "print (state_size,action_size)"
   ]
  },
  {
   "cell_type": "code",
   "execution_count": 6,
   "metadata": {},
   "outputs": [],
   "source": [
    "agent = DQNAgent(state_size,action_size,1,0.995)"
   ]
  },
  {
   "cell_type": "code",
   "execution_count": 7,
   "metadata": {},
   "outputs": [],
   "source": [
    "model1 = agent.load(\"Lunar_lander-dqn.h5\")"
   ]
  },
  {
   "cell_type": "code",
   "execution_count": 8,
   "metadata": {},
   "outputs": [],
   "source": [
    "agent.change_epsilon(0.041)"
   ]
  },
  {
   "cell_type": "code",
   "execution_count": null,
   "metadata": {
    "scrolled": true
   },
   "outputs": [],
   "source": [
    "done = False\n",
    "correct =0\n",
    "# states = np.array([])\n",
    "for e in range(Episodes):\n",
    "    state = env.reset()\n",
    "    state = np.reshape(state, [1,state_size])\n",
    "    steps = 0\n",
    "#     if (states.size == 0):\n",
    "#         states = np.append(states,state)\n",
    "#     else:\n",
    "#         states = np.vstack((states,state))\n",
    "    total_reward = 0\n",
    "    for time in range(1000):\n",
    "        #env.render()\n",
    "        #recorder.capture_frame()\n",
    "        action = agent.chooseAction(state)\n",
    "        if action != 1:\n",
    "            steps +=1\n",
    "        next_state,reward,done,_ = env.step(action)\n",
    "        total_reward += reward\n",
    "#         states = np.vstack((states,next_state))\n",
    "        next_state = np.reshape(next_state, [1, state_size])\n",
    "        agent.store(state,action,total_reward,next_state,done)\n",
    "        state = next_state\n",
    "        if done:\n",
    "            break\n",
    "    agent.replay()\n",
    "    if (e%10 == 0):\n",
    "        correct = 0\n",
    "    if total_reward >= 0:\n",
    "        print(\"Episode: {}/{}, e: {:.2}, Time: {}, Reward: {},Steps: {}\"\n",
    "          .format(e, Episodes, agent.Epsilon,time,total_reward,steps),end = '\\n') \n",
    "        correct += 1\n",
    "        if (correct >= 5):\n",
    "            cont = input()\n",
    "            if (cont=='no'):\n",
    "                break;\n",
    "    else:\n",
    "        print(\"Episode: {}/{}, e: {:.2}, Time: {}, Reward: {},Steps: {}::\"\n",
    "          .format(e, Episodes, agent.Epsilon,time,total_reward,steps),end = '\\r')                 \n",
    "env.close()\n",
    "#recorder.close()"
   ]
  },
  {
   "cell_type": "code",
   "execution_count": null,
   "metadata": {},
   "outputs": [],
   "source": [
    "print (states.shape)\n",
    "for i in range(states.shape[1]):\n",
    "    output = pd.Series(states[:,i])\n",
    "    print (output.describe(), end = '\\n \\n')"
   ]
  },
  {
   "cell_type": "code",
   "execution_count": 55,
   "metadata": {},
   "outputs": [],
   "source": [
    "env.close()\n",
    "recorder.close()"
   ]
  },
  {
   "cell_type": "code",
   "execution_count": null,
   "metadata": {},
   "outputs": [],
   "source": [
    "done = False\n",
    "for e in range(5):\n",
    "    state = env.reset()\n",
    "    state = np.reshape(state, [1,state_size])\n",
    "    steps = 0\n",
    "    total_reward = 0\n",
    "    for time in range(1000):\n",
    "        env.render()\n",
    "        recorder.capture_frame()\n",
    "        action = agent.chooseAction(state)\n",
    "        if action != 1:\n",
    "            steps +=1\n",
    "        next_state,reward,done,_ = env.step(action)\n",
    "        total_reward += reward\n",
    "        next_state = np.reshape(next_state, [1, state_size])\n",
    "        state = next_state\n",
    "        if done:\n",
    "            break\n",
    "    if total_reward >= 0:\n",
    "        print(\"Episode: {}/{}, e: {:.2}, Time: {}, Reward: {},Steps: {}\"\n",
    "          .format(e, Episodes, agent.Epsilon,time,total_reward,steps),end = '\\n')\n",
    "    else:\n",
    "        print(\"Episode: {}/{}, e: {:.2}, Time: {}, Reward: {},Steps: {}::\"\n",
    "          .format(e, Episodes, agent.Epsilon,time,total_reward,steps),end = '\\r')                 \n",
    "env.close()\n",
    "recorder.close()"
   ]
  },
  {
   "cell_type": "code",
   "execution_count": 92,
   "metadata": {},
   "outputs": [],
   "source": [
    "agent.save(\"Lunar_lander-dqn.h5\")"
   ]
  },
  {
   "cell_type": "markdown",
   "metadata": {},
   "source": [
    "# Transfer Learning"
   ]
  },
  {
   "cell_type": "code",
   "execution_count": 9,
   "metadata": {},
   "outputs": [
    {
     "name": "stdout",
     "output_type": "stream",
     "text": [
      "\u001b[33mWARN: gym.spaces.Box autodetected dtype as <class 'numpy.float32'>. Please provide explicit dtype.\u001b[0m\n",
      "\u001b[33mWARN: gym.spaces.Box autodetected dtype as <class 'numpy.float32'>. Please provide explicit dtype.\u001b[0m\n",
      "8 2\n"
     ]
    }
   ],
   "source": [
    "env2 = gym.make('LunarLanderContinuous-v2')\n",
    "state_size = env2.observation_space.shape[0]\n",
    "action_size = 2\n",
    "print (state_size,action_size)"
   ]
  },
  {
   "cell_type": "code",
   "execution_count": 118,
   "metadata": {},
   "outputs": [],
   "source": [
    "class DQNAgent2:\n",
    "    def __init__(self,state_size,action_size,epsilon,epsilon_decay,model_init):\n",
    "        self.state_size = state_size\n",
    "        self.action_size = action_size\n",
    "        self.batch_size = 200\n",
    "        self.learning_rate = 0.001\n",
    "        self.Epsilon = epsilon\n",
    "        self.Gamma = 0.85\n",
    "        self.Epsilon_decay = epsilon_decay\n",
    "        self.Epsilon_min = 0.001\n",
    "        self.memory = deque(maxlen = 10000)\n",
    "        self.model_old = model_init\n",
    "        self.model = self.buildModel()\n",
    "    \n",
    "    def buildModel(self):\n",
    "        model = Sequential()\n",
    "        model.add(Dense(12,input_dim = self.state_size,activation = 'relu'))\n",
    "        model.add(Dense(6,activation = 'relu'))\n",
    "        model.add(Dense(4,activation = 'relu'))\n",
    "        model.add(Dense(self.action_size,activation = 'tanh'))\n",
    "        model.layers[0].set_weights(self.model_old.layers[0].get_weights())\n",
    "        model.layers[0].trainable = False\n",
    "        model.layers[1].set_weights(self.model_old.layers[1].get_weights())\n",
    "        model.layers[1].trainable = False\n",
    "        model.compile(loss = 'mse', optimizer = Adam(lr = self.learning_rate))\n",
    "        return model\n",
    "    \n",
    "    def chooseAction(self,state):\n",
    "        if (np.random.uniform() <= self.Epsilon):\n",
    "            return np.random.randint(-9999,high = 9999, size=2)/10000\n",
    "        action = self.model.predict(state)\n",
    "        action = action[0]\n",
    "        if (action[0]>1):\n",
    "            action[0] = 1\n",
    "        elif (action[0]<-1):\n",
    "            action[0] = -1\n",
    "        if (action[1]>1):\n",
    "            action[1] = 1\n",
    "        elif (action[1]<-1):\n",
    "            action[1] = -1\n",
    "        return action\n",
    "    \n",
    "    def store(self,state,action,reward,next_state,done):\n",
    "        self.memory.append((state,action,reward,next_state,done))\n",
    "    \n",
    "    def replay(self):\n",
    "        if (len(self.memory)<self.batch_size):\n",
    "            batch = random.sample(self.memory,len(self.memory))\n",
    "        else:\n",
    "            batch = random.sample(self.memory,self.batch_size)\n",
    "        cost = 0\n",
    "        for state,action,reward,next_state,done in batch:\n",
    "            if done:\n",
    "                target  = np.array([[reward,reward]])\n",
    "            else:\n",
    "                target = reward + self.Gamma * self.model.predict(next_state)\n",
    "            self.model.fit(state,target,epochs=1,verbose=0)\n",
    "        if (self.Epsilon > self.Epsilon_min):\n",
    "            self.Epsilon *= self.Epsilon_decay\n",
    "        \n",
    "    def load(self, name):\n",
    "        self.model.load_weights(name)\n",
    "\n",
    "    def save(self, name):\n",
    "        self.model.save_weights(name)\n",
    "        \n",
    "    def change_epsilon(self,eps):\n",
    "        self.Epsilon = eps"
   ]
  },
  {
   "cell_type": "code",
   "execution_count": 121,
   "metadata": {},
   "outputs": [],
   "source": [
    "agent2 = DQNAgent2(state_size,action_size,1,0.999,model1)"
   ]
  },
  {
   "cell_type": "code",
   "execution_count": null,
   "metadata": {
    "scrolled": false
   },
   "outputs": [
    {
     "name": "stdout",
     "output_type": "stream",
     "text": [
      "Episode: 1895/3000, e: 0.15, Time: 80, Reward: -932.4545083896038,Steps: 0::::\r"
     ]
    }
   ],
   "source": [
    "done = False\n",
    "correct =0\n",
    "for e in range(Episodes):\n",
    "    state = env2.reset()\n",
    "    state = np.reshape(state, [1,state_size])\n",
    "    steps = 0\n",
    "    total_reward = 0\n",
    "    for time in range(1000):\n",
    "        #env2.render()\n",
    "        #recorder.capture_frame()\n",
    "        action = agent2.chooseAction(state)\n",
    "#         print (action.shape == (2,)  and (action >= -1).all() and (action <= 1).all(),action)\n",
    "        next_state,reward,done,_ = env2.step(action)\n",
    "        total_reward += reward\n",
    "        next_state = np.reshape(next_state, [1, state_size])\n",
    "        agent2.store(state,action,total_reward,next_state,done)\n",
    "        state = next_state\n",
    "        if done:\n",
    "            break\n",
    "    agent2.replay()\n",
    "    if (e%10 == 0):\n",
    "        correct = 0\n",
    "    if total_reward >= 0:\n",
    "        print(\"Episode: {}/{}, e: {:.2}, Time: {}, Reward: {},Steps: {}\"\n",
    "          .format(e, Episodes, agent2.Epsilon,time,total_reward,steps),end = '\\n') \n",
    "        correct += 1\n",
    "        if (correct >= 5):\n",
    "            cont = input()\n",
    "            if (cont=='no'):\n",
    "                break;\n",
    "    else:\n",
    "        print(\"Episode: {}/{}, e: {:.2}, Time: {}, Reward: {},Steps: {}::\"\n",
    "          .format(e, Episodes, agent2.Epsilon,time,total_reward,steps),end = '\\r')                 \n",
    "env2.close()\n",
    "#recorder.close()"
   ]
  },
  {
   "cell_type": "code",
   "execution_count": 91,
   "metadata": {},
   "outputs": [
    {
     "name": "stdout",
     "output_type": "stream",
     "text": [
      "[0.9472 0.7179]\n"
     ]
    }
   ],
   "source": [
    "print(np.random.randint(-10000,high = 10000, size=2)/10000)"
   ]
  },
  {
   "cell_type": "code",
   "execution_count": null,
   "metadata": {},
   "outputs": [],
   "source": []
  }
 ],
 "metadata": {
  "kernelspec": {
   "display_name": "Python 3",
   "language": "python",
   "name": "python3"
  },
  "language_info": {
   "codemirror_mode": {
    "name": "ipython",
    "version": 3
   },
   "file_extension": ".py",
   "mimetype": "text/x-python",
   "name": "python",
   "nbconvert_exporter": "python",
   "pygments_lexer": "ipython3",
   "version": "3.6.5"
  }
 },
 "nbformat": 4,
 "nbformat_minor": 2
}
